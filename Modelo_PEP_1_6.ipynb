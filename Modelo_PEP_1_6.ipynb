{
  "cells": [
    {
      "cell_type": "markdown",
      "source": [
        "# <font color=\"orange\">**Una pequeña visita a nuestros modelos (GUNs) (CNN)** 🧙\n",
        "*y un poquito mas...*"
      ],
      "metadata": {
        "id": "UymcYpza7T_Q"
      }
    },
    {
      "cell_type": "markdown",
      "source": [
        "\n",
        "## **Contenido**:\n",
        "1. Objetivo\n",
        "2. ¿Que es *parkinson*?\n",
        "3. ¿De que nos sirve una deteccion temprana?\n",
        "4. Propuesta\n",
        "5. Pasos\n",
        "  *  *Preprocesamiento*\n",
        "        * Importación de Librerías\n",
        "        * Preparación del Entorno\n",
        "  *  *Generación de Imágenes con GAN*\n",
        "         * Configuración y Arquitectura de la GAN\n",
        "         * Entrenamiento de la GAN\n",
        "  *  *Clasificación de Imágenes con CNN*\n",
        "         * Configuración y Arquitectura de la CNN\n",
        "         * Entrenamiento de la CNN\n",
        "  * *Evaluacion de los modelos*\n",
        "6. Discusión de Resultados\n",
        "7. Direcciones Futuras        \n",
        "8. Conclusion\n",
        "9. Referencias"
      ],
      "metadata": {
        "id": "yBYIMwxI7dTd"
      }
    },
    {
      "cell_type": "markdown",
      "source": [
        "> El objetivo es desarrollar e\n",
        "implementar un modelo capaz de identificar la enfermedad de Parkinson\n",
        "mediante el análisis de imágenes de resonancia magnética, utilizando\n",
        "redes neuronales para facilitar el diagnóstico temprano."
      ],
      "metadata": {
        "id": "KtRE2cYEAiA2"
      }
    },
    {
      "cell_type": "markdown",
      "source": [
        "## **Enfermedad de Parkinson** 😷\n",
        "\n",
        "La enfermedad de Parkinson es un trastorno neurodegenerativo progresivo que afecta el sistema nervioso, en especial las áreas encargadas del control y coordinación del movimiento. Identificada por primera vez por el médico James Parkinson en 1817, esta condición afecta principalmente a personas mayores de 60 años, aunque un pequeño porcentaje de pacientes desarrolla la enfermedad antes de los 50.\n",
        "\n",
        "### Causas\n",
        "\n",
        "La causa exacta de la enfermedad de Parkinson es desconocida, pero se cree que es el resultado de una combinación de factores genéticos y ambientales:\n",
        "\n",
        "1. *Factores Genéticos*: En algunos casos, existen mutaciones genéticas específicas que incrementan el riesgo de desarrollar Parkinson. Estas mutaciones afectan la producción y funcionamiento de proteínas esenciales para las neuronas, como la alfa-sinucleína y la proteína LRRK2. Aunque estos genes están asociados con formas hereditarias de Parkinson, representan solo una minoría de los casos.\n",
        "\n",
        "2. *Factores Ambientales*: Exposiciones a ciertos tóxicos, pesticidas y metales pesados están relacionadas con un riesgo elevado de Parkinson. Además, traumas repetitivos en la cabeza, infecciones virales y exposición a productos químicos industriales, como el manganeso, pueden aumentar el riesgo de desarrollar la enfermedad.\n",
        "\n",
        "3. *Degeneración del Sistema Dopaminérgico*: En pacientes con Parkinson, existe una pérdida progresiva de células nerviosas en una región del cerebro conocida como la sustancia negra. Estas neuronas son responsables de producir dopamina, un neurotransmisor crucial en la regulación de los movimientos. La disminución de dopamina lleva a la pérdida de control motor, que es el síntoma más característico de la enfermedad.\n",
        "\n",
        "\n",
        "### **Consecuencias y Complicaciones** ✋\n",
        "\n",
        "El Parkinson tiene un impacto significativo en la calidad de vida de los pacientes, ya que sus síntomas progresivos afectan la independencia y la capacidad para realizar actividades diarias. Con el tiempo, los pacientes pueden necesitar asistencia para moverse y comunicarse, y las complicaciones secundarias, como infecciones respiratorias y caídas, contribuyen al riesgo de mortalidad.\n",
        "\n",
        "### Diagnóstico\n",
        "\n",
        "El diagnóstico de Parkinson se basa principalmente en la historia clínica y el examen físico, ya que no existen pruebas específicas para confirmar la enfermedad. Se utilizan métodos de neuroimagen, como la tomografía por emisión de positrones (PET) y la tomografía computarizada por emisión de fotón único (SPECT), para observar el déficit de dopamina, aunque suelen emplearse solo en casos complejos. La detección temprana sigue siendo un desafío debido a la falta de métodos accesibles y altamente precisos para identificar la enfermedad en sus primeras etapas.\n",
        "\n",
        "### **Tratamiento** 💆\n",
        "\n",
        "El tratamiento del Parkinson es principalmente sintomático, ya que actualmente no existe una cura para la enfermedad. Los tratamientos más comunes incluyen:\n",
        "\n",
        "1. *Medicamentos*:\n",
        "   - *Levodopa*: Este es el fármaco más eficaz y ampliamente utilizado para mejorar los síntomas motores. La levodopa se convierte en dopamina en el cerebro, mejorando el control motor.\n",
        "   - *Agonistas de Dopamina*: Estos medicamentos imitan los efectos de la dopamina en el cerebro, aunque suelen ser menos efectivos que la levodopa y tienen efectos secundarios diferentes.\n",
        "   - *Inhibidores de MAO-B y COMT*: Ayudan a prolongar los efectos de la dopamina al inhibir las enzimas que la descomponen.\n",
        "   \n",
        "2. *Terapias Físicas y de Rehabilitación*: La fisioterapia, la terapia ocupacional y el ejercicio pueden ayudar a mantener la movilidad y reducir la rigidez.\n",
        "\n",
        "3. *Estimulación Cerebral Profunda (DBS)*: Este tratamiento quirúrgico implica la implantación de electrodos en ciertas áreas del cerebro. DBS puede reducir los síntomas motores en pacientes avanzados cuando los medicamentos no son suficientes.\n",
        "\n",
        "4. *Tratamientos Experimentales*: La investigación está explorando opciones como la terapia génica, las células madre y nuevas moléculas para proteger o restaurar las neuronas dopaminérgicas.\n"
      ],
      "metadata": {
        "id": "8XnyqXGYArxD"
      }
    },
    {
      "cell_type": "markdown",
      "source": [
        "### **Propuesta** 🌊\n",
        ">Este proyecto propone un modelo de clasificación binaria que emplea\n",
        "CNN y GANs para analizar y clasificar imágenes médicas en dos\n",
        "categorías: con o sin signos de Parkinson.\n",
        "\n",
        ">El desarrollo de un modelo de inteligencia artificial para la detección temprana de Parkinson permitiría mejorar el acceso a herramientas de diagnóstico asequibles y precisas. La implementación de CNN permite la clasificación eficiente de patrones complejos presentes en imágenes de resonancia magnética, mientras que la generación de imágenes sintéticas mediante GAN incrementa el conjunto de datos disponibles, mejorando así la precisión del modelo."
      ],
      "metadata": {
        "id": "eEsdaRQgEglP"
      }
    },
    {
      "cell_type": "markdown",
      "source": [
        "## **Pasos de desarrollo del Modelo (GAN) (CNN)👣**"
      ],
      "metadata": {
        "id": "snrqvaI2FuZw"
      }
    },
    {
      "cell_type": "markdown",
      "source": [
        "## **Preprocesamiento :**"
      ],
      "metadata": {
        "id": "Aa10wyxQG5xw"
      }
    },
    {
      "cell_type": "code",
      "execution_count": null,
      "metadata": {
        "id": "JuSpE-Ap3WgO"
      },
      "outputs": [],
      "source": [
        "# 🚀 ¡Preparándonos para el despegue! Vamos a importar todas las librerías necesarias\n",
        "import os  # Manejo de rutas y archivos en nuestro sistema\n",
        "import numpy as np  # Para el manejo numérico (el álgebra no puede faltar)\n",
        "import matplotlib.pyplot as plt  # Para mostrar nuestras imágenes\n",
        "import tensorflow as tf  # ¡La estrella del show! TensorFlow para redes neuronales\n",
        "from tensorflow.keras.layers import Dense, Reshape, Flatten, BatchNormalization, LeakyReLU, Conv2DTranspose, Conv2D\n",
        "from tensorflow.keras.models import Sequential\n",
        "from tensorflow.keras.preprocessing.image import ImageDataGenerator\n",
        "from PIL import Image  # Manipulación de imágenes, nuestro lienzo digital\n"
      ]
    },
    {
      "cell_type": "code",
      "execution_count": null,
      "metadata": {
        "id": "rgUlS6mX3WgT"
      },
      "outputs": [],
      "source": [
        "# 📂 Crear carpetas para nuestras imágenes generadas\n",
        "# Si no existen las carpetas para almacenar nuestras creaciones, las creamos (¡no queremos que nuestras imágenes se pierdan!)\n",
        "os.makedirs(gan_generated_pd_path, exist_ok=True)\n",
        "os.makedirs(gan_generated_control_path, exist_ok=True)\n"
      ]
    },
    {
      "cell_type": "code",
      "execution_count": null,
      "metadata": {
        "id": "FJ9yCk523WgV"
      },
      "outputs": [],
      "source": [
        "# Definir parámetros del dataset de Parkinson\n",
        "BUFFER_SIZE_PD = pd_images.shape[0]\n",
        "BATCH_SIZE = 32"
      ]
    },
    {
      "cell_type": "code",
      "execution_count": null,
      "metadata": {
        "id": "BIUBdp_I3WgV"
      },
      "outputs": [],
      "source": [
        "# Crear dataset de TensorFlow para Parkinson\n",
        "dataset_pd = tf.data.Dataset.from_tensor_slices(pd_images).shuffle(BUFFER_SIZE_PD).batch(BATCH_SIZE)\n",
        "\n",
        "# Cargar las imágenes de Control y normalizarlas\n",
        "control_images = load_images_from_folder(control_path)\n",
        "control_images = (control_images - 127.5) / 127.5  # Normalizar las imágenes al rango [-1, 1]\n",
        "\n",
        "# Definir parámetros del dataset de Control\n",
        "BUFFER_SIZE_CONTROL = control_images.shape[0]\n",
        "\n",
        "# Crear dataset de TensorFlow para Control\n",
        "dataset_control = tf.data.Dataset.from_tensor_slices(control_images).shuffle(BUFFER_SIZE_CONTROL).batch(BATCH_SIZE)\n"
      ]
    },
    {
      "cell_type": "markdown",
      "source": [
        "## **Generación de Imágenes con GAN** 🐹"
      ],
      "metadata": {
        "id": "wuH9v0sxHOdc"
      }
    },
    {
      "cell_type": "code",
      "execution_count": null,
      "metadata": {
        "id": "2Y9f9DN33WgW"
      },
      "outputs": [],
      "source": [
        "\n",
        "# Definir el generador del GAN\n",
        "def build_generator():\n",
        "    model = Sequential()\n",
        "    model.add(Dense(8 * 8 * 256, use_bias=False, input_shape=(100,)))\n",
        "    model.add(BatchNormalization())\n",
        "    model.add(LeakyReLU())\n",
        "\n",
        "    model.add(Reshape((8, 8, 256)))\n",
        "    model.add(Conv2DTranspose(128, (5, 5), strides=(2, 2), padding='same', use_bias=False))\n",
        "    model.add(BatchNormalization())\n",
        "    model.add(LeakyReLU())\n",
        "\n",
        "    model.add(Conv2DTranspose(64, (5, 5), strides=(2, 2), padding='same', use_bias=False))\n",
        "    model.add(BatchNormalization())\n",
        "    model.add(LeakyReLU())\n",
        "\n",
        "    model.add(Conv2DTranspose(3, (5, 5), strides=(2, 2), padding='same', use_bias=False, activation='tanh'))\n",
        "    return model\n",
        "\n",
        "# Definir el discriminador del GAN\n",
        "def build_discriminator():\n",
        "    model = Sequential()\n",
        "    model.add(Conv2D(64, (5, 5), strides=(2, 2), padding='same', input_shape=[64, 64, 3]))\n",
        "    model.add(LeakyReLU())\n",
        "    model.add(tf.keras.layers.Dropout(0.3))\n",
        "\n",
        "    model.add(Conv2D(128, (5, 5), strides=(2, 2), padding='same'))\n",
        "    model.add(LeakyReLU())\n",
        "    model.add(tf.keras.layers.Dropout(0.3))\n",
        "\n",
        "    model.add(Flatten())\n",
        "    model.add(Dense(1))\n",
        "    return model\n",
        "\n",
        "# Crear los modelos del generador y el discriminador\n",
        "generator = build_generator()\n",
        "discriminator = build_discriminator()\n"
      ]
    },
    {
      "cell_type": "code",
      "execution_count": null,
      "metadata": {
        "id": "9Ub1OCu93WgW"
      },
      "outputs": [],
      "source": [
        "# Definir la función de pérdida y los optimizadores\n",
        "cross_entropy = tf.keras.losses.BinaryCrossentropy(from_logits=True)\n",
        "\n",
        "def generator_loss(fake_output):\n",
        "    return cross_entropy(tf.ones_like(fake_output), fake_output)\n",
        "\n",
        "def discriminator_loss(real_output, fake_output):\n",
        "    real_loss = cross_entropy(tf.ones_like(real_output), real_output)\n",
        "    fake_loss = cross_entropy(tf.zeros_like(fake_output), fake_output)\n",
        "    return real_loss + fake_loss\n",
        "\n",
        "# Definir los optimizadores del generador y el discriminador\n",
        "generator_optimizer = tf.keras.optimizers.Adam(1e-4)\n",
        "discriminator_optimizer = tf.keras.optimizers.Adam(1e-4)\n",
        "\n",
        "# Definir el entrenamiento del GAN\n",
        "EPOCHS = 100\n",
        "NOISE_DIM = 100\n",
        "NUM_EXAMPLES_TO_GENERATE = 5\n",
        "\n",
        "seed = tf.random.normal([NUM_EXAMPLES_TO_GENERATE, NOISE_DIM])\n",
        "\n",
        "# Funciones para entrenar el GAN\n",
        "@tf.function\n",
        "def train_step(images):\n",
        "    noise = tf.random.normal([BATCH_SIZE, NOISE_DIM])\n",
        "\n",
        "    with tf.GradientTape() as gen_tape, tf.GradientTape() as disc_tape:\n",
        "        generated_images = generator(noise, training=True)\n",
        "\n",
        "        real_output = discriminator(images, training=True)\n",
        "        fake_output = discriminator(generated_images, training=True)\n",
        "\n",
        "        gen_loss = generator_loss(fake_output)\n",
        "        disc_loss = discriminator_loss(real_output, fake_output)\n",
        "\n",
        "    gradients_of_generator = gen_tape.gradient(gen_loss, generator.trainable_variables)\n",
        "    gradients_of_discriminator = disc_tape.gradient(disc_loss, discriminator.trainable_variables)\n",
        "\n",
        "    generator_optimizer.apply_gradients(zip(gradients_of_generator, generator.trainable_variables))\n",
        "    discriminator_optimizer.apply_gradients(zip(gradients_of_discriminator, discriminator.trainable_variables))\n",
        "\n",
        "def train(dataset, epochs, save_path):\n",
        "    for epoch in range(epochs):\n",
        "        for image_batch in dataset:\n",
        "            train_step(image_batch)\n",
        "\n",
        "        # Generar y guardar algunas imágenes al final de cada época\n",
        "        generate_and_save_images(generator, epoch + 1, seed, save_path)\n",
        "        print(f\"Epoch {epoch + 1}/{epochs} completed\")\n",
        "\n",
        "        # Visualizar algunas imágenes generadas durante el entrenamiento\n",
        "        visualize_generated_images(generator, seed)\n",
        "\n",
        "\n",
        "# Funciones para generar y guardar imágenes\n",
        "def generate_and_save_images(model, epoch, test_input, save_path):\n",
        "    predictions = model(test_input, training=False)\n",
        "\n",
        "    for i in range(predictions.shape[0]):\n",
        "        img = (predictions[i] + 1) / 2  # Desnormalizar al rango [0, 1]\n",
        "        img = tf.cast(img * 255, tf.uint8).numpy()  # Convertir a uint8\n",
        "        img = Image.fromarray(img)\n",
        "        img.save(os.path.join(save_path, f\"gan_generated_epoch_{epoch}_img_{i}.png\"))\n",
        "\n",
        "# Función para visualizar imágenes generadas durante el entrenamiento\n",
        "def visualize_generated_images(model, test_input):\n",
        "    predictions = model(test_input, training=False)\n",
        "\n",
        "    fig = plt.figure(figsize=(10, 10))\n",
        "    for i in range(predictions.shape[0]):\n",
        "        plt.subplot(1, NUM_EXAMPLES_TO_GENERATE, i+1)\n",
        "        plt.imshow((predictions[i] + 1) / 2)\n",
        "        plt.axis('off')\n",
        "    plt.show()"
      ]
    },
    {
      "cell_type": "code",
      "execution_count": null,
      "metadata": {
        "id": "XgM5WmRb3WgX"
      },
      "outputs": [],
      "source": [
        "# Entrenar el GAN con imágenes de Parkinson\n",
        "gan_generated_pd_path = \"/home/crakerool/Parkinson UCN/Parkinson/ganGenerated/PD\"\n",
        "print(\"Entrenando GAN con imágenes de Parkinson...\")\n",
        "train(dataset_pd, EPOCHS, gan_generated_pd_path)\n"
      ]
    },
    {
      "cell_type": "code",
      "execution_count": null,
      "metadata": {
        "id": "HI1zrdRh3WgY"
      },
      "outputs": [],
      "source": [
        "# Entrenar el GAN con imágenes de Control\n",
        "gan_generated_control_path = \"/home/crakerool/Parkinson UCN/Parkinson/ganGenerated/CONTROL\"\n",
        "print(\"Entrenando GAN con imágenes de Control...\")\n",
        "train(dataset_control, EPOCHS, gan_generated_control_path)\n"
      ]
    },
    {
      "cell_type": "markdown",
      "source": [
        "## **Clasificación de Imágenes con CNN** ✅ ❎"
      ],
      "metadata": {
        "id": "tEsqXCIFIADA"
      }
    },
    {
      "cell_type": "code",
      "execution_count": null,
      "metadata": {
        "id": "8yjUSMB53WgY"
      },
      "outputs": [],
      "source": [
        "# Definición del modelo CNN\n",
        "model = Sequential([\n",
        "    Conv2D(32, (3, 3), activation='relu', input_shape=(128, 128, 3)),\n",
        "    tf.keras.layers.MaxPooling2D((2, 2)),\n",
        "\n",
        "    Conv2D(64, (3, 3), activation='relu'),\n",
        "    tf.keras.layers.MaxPooling2D((2, 2)),\n",
        "\n",
        "    Conv2D(128, (3, 3), activation='relu'),\n",
        "    tf.keras.layers.MaxPooling2D((2, 2)),\n",
        "\n",
        "    Flatten(),\n",
        "    Dense(128, activation='relu'),\n",
        "    tf.keras.layers.Dropout(0.5),\n",
        "    Dense(1, activation='sigmoid')\n",
        "])\n",
        "\n",
        "# Compilación del modelo\n",
        "model.compile(optimizer='adam',\n",
        "              loss='binary_crossentropy',\n",
        "              metrics=['accuracy'])"
      ]
    },
    {
      "cell_type": "code",
      "execution_count": null,
      "metadata": {
        "id": "rCsPc_gl3WgZ"
      },
      "outputs": [],
      "source": [
        "# Cargar y preparar las imágenes para el entrenamiento y validación de la CNN\n",
        "train_datagen = ImageDataGenerator(rescale=1.0/255, validation_split=0.01)\n",
        "\n",
        "train_generator = train_datagen.flow_from_directory(\n",
        "    '/home/crakerool/Parkinson UCN/Parkinson/trainDatasets',\n",
        "    classes=['PD', 'CONTROL'],\n",
        "    target_size=(128, 128),\n",
        "    batch_size=16,\n",
        "    class_mode='binary',\n",
        "    subset='training'\n",
        ")\n",
        "\n",
        "validation_generator = train_datagen.flow_from_directory(\n",
        "    '/home/crakerool/Parkinson UCN/Parkinson/trainDatasets',\n",
        "    classes=['PD', 'CONTROL'],\n",
        "    target_size=(128, 128),\n",
        "    batch_size=32,\n",
        "    class_mode='binary',\n",
        "    subset='validation'\n",
        ")"
      ]
    },
    {
      "cell_type": "code",
      "execution_count": null,
      "metadata": {
        "id": "D8fflxuc3WgZ",
        "outputId": "88ab89fa-8db5-4848-f5fe-bbc0657742e7"
      },
      "outputs": [
        {
          "name": "stdout",
          "output_type": "stream",
          "text": [
            "Epoch 1/15\n"
          ]
        },
        {
          "name": "stderr",
          "output_type": "stream",
          "text": [
            "2024-11-07 18:07:21.812503: I tensorflow/core/common_runtime/executor.cc:1197] [/device:CPU:0] (DEBUG INFO) Executor start aborting (this does not indicate an error and you can ignore this message): INVALID_ARGUMENT: You must feed a value for placeholder tensor 'Placeholder/_0' with dtype int32\n",
            "\t [[{{node Placeholder/_0}}]]\n"
          ]
        },
        {
          "name": "stdout",
          "output_type": "stream",
          "text": [
            "653/653 [==============================] - ETA: 0s - loss: 0.2308 - accuracy: 0.9108"
          ]
        },
        {
          "name": "stderr",
          "output_type": "stream",
          "text": [
            "2024-11-07 18:09:19.658992: I tensorflow/core/common_runtime/executor.cc:1197] [/device:CPU:0] (DEBUG INFO) Executor start aborting (this does not indicate an error and you can ignore this message): INVALID_ARGUMENT: You must feed a value for placeholder tensor 'Placeholder/_0' with dtype int32\n",
            "\t [[{{node Placeholder/_0}}]]\n"
          ]
        },
        {
          "name": "stdout",
          "output_type": "stream",
          "text": [
            "653/653 [==============================] - 118s 180ms/step - loss: 0.2308 - accuracy: 0.9108 - val_loss: 0.2150 - val_accuracy: 0.9143\n",
            "Epoch 2/15\n",
            "653/653 [==============================] - 107s 164ms/step - loss: 0.1905 - accuracy: 0.9198 - val_loss: 0.2221 - val_accuracy: 0.9143\n",
            "Epoch 3/15\n",
            "653/653 [==============================] - 112s 171ms/step - loss: 0.1498 - accuracy: 0.9331 - val_loss: 0.1511 - val_accuracy: 0.9429\n",
            "Epoch 4/15\n",
            "653/653 [==============================] - 120s 183ms/step - loss: 0.0884 - accuracy: 0.9639 - val_loss: 0.2296 - val_accuracy: 0.8952\n",
            "Epoch 5/15\n",
            "653/653 [==============================] - 104s 159ms/step - loss: 0.0420 - accuracy: 0.9832 - val_loss: 0.2959 - val_accuracy: 0.8857\n",
            "Epoch 6/15\n",
            "653/653 [==============================] - 123s 188ms/step - loss: 0.0213 - accuracy: 0.9927 - val_loss: 0.1312 - val_accuracy: 0.9333\n",
            "Epoch 7/15\n",
            "653/653 [==============================] - 103s 158ms/step - loss: 0.0156 - accuracy: 0.9944 - val_loss: 0.2889 - val_accuracy: 0.9333\n",
            "Epoch 8/15\n",
            "653/653 [==============================] - 110s 169ms/step - loss: 0.0111 - accuracy: 0.9967 - val_loss: 0.2700 - val_accuracy: 0.8857\n",
            "Epoch 9/15\n",
            "653/653 [==============================] - 105s 160ms/step - loss: 0.0115 - accuracy: 0.9966 - val_loss: 0.4964 - val_accuracy: 0.8857\n",
            "Epoch 10/15\n",
            "653/653 [==============================] - 105s 162ms/step - loss: 0.0141 - accuracy: 0.9956 - val_loss: 0.2529 - val_accuracy: 0.8857\n",
            "Epoch 11/15\n",
            "653/653 [==============================] - 118s 181ms/step - loss: 0.0045 - accuracy: 0.9989 - val_loss: 0.7418 - val_accuracy: 0.8667\n",
            "Epoch 12/15\n",
            "653/653 [==============================] - 108s 165ms/step - loss: 0.0171 - accuracy: 0.9952 - val_loss: 0.5440 - val_accuracy: 0.8762\n",
            "Epoch 13/15\n",
            "653/653 [==============================] - 113s 173ms/step - loss: 0.0087 - accuracy: 0.9975 - val_loss: 0.4603 - val_accuracy: 0.8857\n",
            "Epoch 14/15\n",
            "653/653 [==============================] - 115s 176ms/step - loss: 0.0046 - accuracy: 0.9986 - val_loss: 0.2668 - val_accuracy: 0.8857\n",
            "Epoch 15/15\n",
            "653/653 [==============================] - 114s 174ms/step - loss: 0.0081 - accuracy: 0.9973 - val_loss: 0.6088 - val_accuracy: 0.9143\n"
          ]
        }
      ],
      "source": [
        "# Entrenamiento del modelo\n",
        "history = model.fit(\n",
        "    train_generator,\n",
        "    steps_per_epoch=len(train_generator),\n",
        "    epochs=15,\n",
        "    validation_data=validation_generator,\n",
        "    validation_steps=len(validation_generator)\n",
        ")\n"
      ]
    },
    {
      "cell_type": "markdown",
      "source": [
        "## **Evaluacion de los modelos** ⚡"
      ],
      "metadata": {
        "id": "w8WQSBCyIbyO"
      }
    },
    {
      "cell_type": "markdown",
      "source": [
        "### *Metricas de Gan* :"
      ],
      "metadata": {
        "id": "suT7gpgaIoRg"
      }
    },
    {
      "cell_type": "markdown",
      "source": [
        "### *Metricas de CNN* :"
      ],
      "metadata": {
        "id": "fKeTWFEjI6wv"
      }
    },
    {
      "cell_type": "markdown",
      "source": [
        "## **Discucion de resultados** 😏\n",
        "\n",
        "### Comparación con los Objetivos Iniciales:\n",
        "\n",
        "El objetivo inicial de este proyecto fue desarrollar un modelo de inteligencia artificial capaz de clasificar imágenes de resonancia magnética en dos categorías: con signos de Parkinson y sin signos de la enfermedad. Para ello, empleamos dos enfoques complementarios:\n",
        "1. **Red Generativa Antagónica (GAN)** para la generación de imágenes sintéticas, con el fin de ampliar el conjunto de datos de entrenamiento.\n",
        "2. **Red Neuronal Convolucional (CNN)** para realizar la clasificación binaria, maximizando la precisión y generalización del modelo.\n",
        "\n",
        "Nuestros resultados muestran que, si bien el modelo de CNN logró una precisión aceptable en la clasificación, el desempeño es más consistente en la identificación de imágenes sin Parkinson que en la identificación de casos positivos. Esto sugiere que el modelo aún enfrenta desafíos para detectar ciertos patrones asociados con la enfermedad en imágenes sintéticas y reales, particularmente en aquellos casos donde las características de la enfermedad son menos evidentes o más difusas.\n",
        "\n",
        "### Evaluación del Modelo de GAN\n",
        "\n",
        "La GAN permitió generar imágenes de resonancia magnética que fueron visualmente similares a las reales, incrementando el tamaño de nuestro conjunto de datos. Sin embargo, notamos que las imágenes generadas por la GAN presentan una resolución limitada y detalles poco precisos, lo cual afecta la calidad del entrenamiento de la CNN. Esto puede deberse a la complejidad de las características de Parkinson en las imágenes de resonancia magnética, que la GAN aún no reproduce completamente.\n",
        "\n",
        "Es necesario optimizar la arquitectura de la GAN para mejorar la calidad de las imágenes generadas, lo cual podría lograrse mediante una mayor cantidad de datos de entrenamiento, el uso de técnicas de transferencia de aprendizaje, o modelos de GAN más avanzados como las StyleGANs.\n",
        "\n",
        "### Rendimiento de la CNN\n",
        "\n",
        "La CNN demostró buen rendimiento en la clasificación binaria, alcanzando una precisión notable en imágenes sin signos de Parkinson. Sin embargo, la precisión disminuye en la clasificación de imágenes con signos de la enfermedad, lo que indica que el modelo tiene dificultad para captar ciertos patrones característicos del Parkinson. Esto podría estar relacionado con la variabilidad de las imágenes sintéticas y reales, así como con la falta de datos de alta calidad para entrenar el modelo.\n",
        "\n",
        "Para mejorar el rendimiento, sería útil:\n",
        "- Incluir más datos reales en el entrenamiento, especialmente de casos positivos de Parkinson.\n",
        "- Refinar la arquitectura de la CNN o experimentar con otros modelos, como redes neuronales profundas residuales (ResNets), que podrían mejorar la precisión en casos complejos.\n",
        "\n",
        "### Limitaciones\n",
        "\n",
        "Los resultados reflejan varias limitaciones que impactan en la precisión y aplicabilidad del modelo:\n",
        "1. **Cantidad de Datos Limitada**: La cantidad de imágenes de resonancia magnética disponibles es limitada, especialmente en imágenes con signos de Parkinson.\n",
        "2. **Calidad de Imágenes Sintéticas**: La calidad de las imágenes generadas por la GAN afecta el aprendizaje de la CNN, lo cual se refleja en una precisión menor en casos positivos de Parkinson.\n",
        "3. **Generalización del Modelo**: El modelo podría no generalizar bien en datos clínicos reales, dada la variabilidad en las imágenes de resonancia magnética."
      ],
      "metadata": {
        "id": "HEUMOPv0JBj-"
      }
    },
    {
      "cell_type": "markdown",
      "source": [
        "## **Direcciones Futuras** ✈"
      ],
      "metadata": {
        "id": "f4Fd1NaPKvoc"
      }
    },
    {
      "cell_type": "markdown",
      "source": [
        "### 1. Aumentar la Calidad de las Imágenes Generadas para Facilitar la Detección de Patrones por la CNN\n",
        "\n",
        "La calidad de las imágenes generadas por la GAN es crucial para el entrenamiento de la CNN, ya que influye directamente en su capacidad para aprender patrones complejos asociados con la enfermedad de Parkinson. Mejorar la resolución y el nivel de detalle en las imágenes sintéticas ayudaría a que la CNN identifique con mayor precisión las características distintivas de la enfermedad. Para lograr este objetivo, se pueden considerar las siguientes acciones:\n",
        "   - **Implementar arquitecturas de GAN avanzadas**: Modelos como StyleGAN o ProGAN ofrecen mejoras en la calidad y resolución de las imágenes generadas. Estas arquitecturas podrían adaptarse para producir imágenes de resonancia magnética con una calidad visual cercana a la de los datos reales.\n",
        "   - **Ajuste de Hiperparámetros y Aumento del Conjunto de Datos**: Incrementar la cantidad y variedad de imágenes de entrenamiento reales ayuda a que la GAN genere imágenes más realistas y con mayor variabilidad.\n",
        "   - **Uso de Transferencia de Aprendizaje**: Aplicar técnicas de transferencia de aprendizaje con GAN preentrenadas en conjuntos de datos similares podría mejorar la capacidad de la GAN para reproducir características de alta calidad en las imágenes sintéticas.\n",
        "\n",
        "### 2. Incrementar la Precisión del Modelo Clasificador\n",
        "\n",
        "La precisión del modelo clasificador CNN es fundamental para garantizar que la herramienta sea confiable en un contexto clínico. Para mejorar la precisión, es importante:\n",
        "   - **Optimizar la arquitectura de la CNN**: Implementar arquitecturas más complejas y robustas, como redes residuales (ResNets) o EfficientNets, que han demostrado alta precisión en tareas de clasificación de imágenes médicas.\n",
        "   - **Realizar ajustes de hiperparámetros**: Experimentar con diferentes configuraciones de hiperparámetros, como la tasa de aprendizaje, número de capas y unidades por capa, que puedan aumentar la capacidad de la red para capturar patrones en las imágenes de Parkinson.\n",
        "   - **Entrenar el modelo en un conjunto de datos ampliado**: Utilizar tanto imágenes reales como sintéticas generadas por la GAN, aumentando así la capacidad de la CNN para reconocer variaciones sutiles y mejorar la generalización del modelo en datos de prueba.\n",
        "\n",
        "### 3. Entrenar con Neuroimágenes de Distintas Cohortes para Hacer el Modelo Más Robusto\n",
        "\n",
        "La variabilidad en las imágenes de resonancia magnética entre diferentes cohortes de pacientes puede afectar la precisión del modelo si este no es capaz de generalizar adecuadamente. Para abordar esta limitación, se sugiere:\n",
        "   - **Incluir datos de pacientes de distintas poblaciones y ubicaciones**: Esto permite que el modelo aprenda a identificar los patrones de Parkinson sin verse afectado por factores específicos de una sola cohorte, como características demográficas o técnicas de adquisición de imágenes.\n",
        "   - **Aplicar técnicas de aumento de datos**: Utilizar técnicas como rotación, escalado y ajuste de brillo en las imágenes de resonancia magnética para simular diferentes condiciones de adquisición y maximizar la robustez del modelo ante variaciones.\n",
        "   - **Validación cruzada entre cohortes**: Realizar pruebas del modelo en distintas cohortes de validación para asegurarse de que el rendimiento del clasificador se mantenga estable y no se degrade al trabajar con imágenes de diferentes fuentes.\n",
        "\n",
        "### 4. Extender el Modelo para Identificar el Grado de Avance del Parkinson, No Solo su Presencia\n",
        "\n",
        "Actualmente, el modelo se enfoca en una clasificación binaria (con o sin signos de Parkinson), pero un modelo que también pueda predecir el grado de avance de la enfermedad tendría un valor clínico considerable. Para lograr esta extensión:\n",
        "   - **Reentrenar la CNN en un problema de clasificación multinomial**: Dividir las imágenes en varias categorías según la etapa de la enfermedad, entrenando al modelo para distinguir entre diferentes niveles de severidad, como etapas inicial, intermedia y avanzada del Parkinson.\n",
        "   - **Implementar un modelo de regresión**: Alternativamente, se puede utilizar un modelo de regresión para predecir un índice continuo de avance de la enfermedad, proporcionando una estimación más precisa de la progresión en lugar de una clasificación discreta.\n",
        "   - **Colaborar con expertos clínicos**: Para etiquetar las imágenes en base a las etapas del Parkinson, sería importante trabajar con profesionales de la salud que puedan clasificar las imágenes según criterios clínicos específicos. Esto proporcionará etiquetas confiables y consistentes para el entrenamiento del modelo.\n",
        "### 5. Entrenamiento de un Modelo de Enfoque Multimodal\n",
        "\n",
        "Incorporar datos adicionales, como información clínica y demográfica, en conjunto con las imágenes de resonancia magnética, puede ayudar al modelo a captar patrones más complejos.\n",
        "   - **Fusionar datos de imágenes y datos tabulares**: Entrenar un modelo multimodal que integre imágenes de resonancia con datos demográficos, antecedentes familiares y síntomas puede mejorar la precisión en el diagnóstico.\n",
        "   - **Desarrollar un modelo de decisión en capas**: Utilizar el modelo CNN para clasificar imágenes de Parkinson y después integrar esta predicción con otros datos clínicos mediante una red neuronal densa para refinar la probabilidad de diagnóstico.\n",
        "\n",
        "### 6. Implementación de Técnicas de Interpretabilidad de Modelos\n",
        "\n",
        "Agregar métodos de interpretabilidad puede hacer que el modelo sea más útil en un entorno clínico, permitiendo a los profesionales de la salud entender las razones detrás de cada predicción:\n",
        "   - **Mapas de Calor (Grad-CAM)**: Utilizar mapas de activación para visualizar las regiones de la imagen que el modelo considera más relevantes para la clasificación.\n",
        "   - **Modelos de Interpretación Basados en SHAP o LIME**: Aplicar técnicas que muestren el peso de diferentes características en la decisión del modelo, facilitando la confianza en el diagnóstico generado por la IA.\n",
        "\n",
        "### 7. Incorporación de Modelos de Ensamble\n",
        "\n",
        "Un ensamble de varios modelos puede mejorar la precisión y robustez del sistema:\n",
        "   - **Ensamble de CNNs**: Combinar varias redes neuronales convolucionales, cada una con configuraciones y arquitecturas ligeramente distintas, y promediar sus predicciones para mejorar la precisión global.\n",
        "   - **Modelo Híbrido CNN-RNN**: Combinar CNN con redes neuronales recurrentes (RNN) para capturar patrones de secuencia en las imágenes, lo que puede ser útil si se analizan series de imágenes para rastrear la progresión del Parkinson.\n",
        "\n",
        "### 8. Optimización del Modelo con Aprendizaje Activo\n",
        "\n",
        "El aprendizaje activo permite que el modelo aprenda de manera más eficiente seleccionando de forma inteligente los datos de entrenamiento en los que tiene menos confianza.\n",
        "   - **Curación de Conjunto de Datos con Etiquetado Activo**: Implementar un sistema donde el modelo pueda solicitar etiquetas adicionales de expertos humanos para los datos que encuentra difíciles de clasificar, mejorando su capacidad para lidiar con casos límite.\n",
        "   - **Entrenamiento Incremental**: Usar un enfoque de aprendizaje continuo donde el modelo sea ajustado con nuevos datos a medida que estos estén disponibles, manteniendo su precisión y capacidad de generalización con el tiempo.\n",
        "\n",
        "### 9. Ajuste Fino mediante Transferencia de Aprendizaje\n",
        "\n",
        "Si existe un modelo preentrenado en un conjunto de datos grande y relevante, se puede utilizar como base y luego ajustarlo específicamente para la tarea de clasificación de Parkinson:\n",
        "   - **Transferencia de Aprendizaje desde Modelos Médicos**: Aprovechar modelos preentrenados en otros conjuntos de datos de imágenes médicas, adaptándolos para detectar patrones específicos de Parkinson mediante ajuste fino en las capas finales.\n",
        "   - **Transferencia de Aprendizaje desde Modelos Generales de Visión**: Usar modelos de visión preentrenados en conjuntos de datos amplios, como ImageNet, para dotar al modelo de un conocimiento general en la detección de características antes de especializarlo en el diagnóstico de Parkinson.\n",
        "\n",
        "### 10. Desarrollo de una Interfaz de Usuario Amigable para Uso Clínico\n",
        "\n",
        "Para facilitar la implementación del modelo en entornos clínicos, una interfaz intuitiva es clave:\n",
        "   - **Aplicación Web o Software de Escritorio**: Desarrollar una aplicación que permita a los médicos cargar imágenes de resonancia magnética y recibir una clasificación en tiempo real, junto con una visualización de los mapas de calor para mayor transparencia.\n",
        "   - **Informe Automático de Diagnóstico**: Generar automáticamente un informe que explique el resultado de la clasificación y las características detectadas, ayudando a los médicos a comprender mejor la evaluación del modelo.\n",
        "\n",
        "Estas direcciones a futuro no solo mejorarán la precisión del modelo, sino que también incrementarán su aplicabilidad en el diagnóstico y manejo clínico de la enfermedad de Parkinson, avanzando hacia una herramienta integral de apoyo a la toma de decisiones médicas.\n"
      ],
      "metadata": {
        "id": "y2FRjF1mLcU9"
      }
    },
    {
      "cell_type": "markdown",
      "source": [
        "## **Conclusion** 😉"
      ],
      "metadata": {
        "id": "d1ayefoNNuNv"
      }
    },
    {
      "cell_type": "markdown",
      "source": [
        "> Al combinar redes generativas antagónicas (GAN) y redes neuronales convolucionales (CNN), este proyecto busca superar uno de los principales obstáculos en el diagnóstico temprano de Parkinson: la escasez de datos y la complejidad de sus patrones característicos. La GAN permite generar imágenes sintéticas que amplían el conjunto de datos de entrenamiento, mientras que la CNN ofrece una herramienta precisa para clasificar imágenes en dos categorías: con y sin signos de Parkinson.\n",
        "\n",
        ">A lo largo de esta investigación y creacion del modelo, los resultados alcanzados han demostrado que el enfoque es prometedor, aunque todavía enfrenta desafíos. La calidad de las imágenes generadas y la capacidad del modelo para generalizar en distintas cohortes son áreas que requieren mejoras para asegurar su precisión en un entorno clínico real. Además, la posibilidad de adaptar el modelo para predecir el grado de avance de la enfermedad amplía sus aplicaciones potenciales, haciendo que este proyecto pueda convertirse en una herramienta integral para la detección y monitoreo de la enfermedad de Parkinson.\n",
        "\n",
        ">Las direcciones futuras, como la implementación de técnicas avanzadas de aumento de datos, la exploración de arquitecturas más complejas y el entrenamiento multimodal, permitirán mejorar aún más la precisión y robustez del modelo. Además, la creación de una interfaz de usuario amigable podría facilitar su adopción en entornos clínicos, haciendo que la tecnología sea accesible para médicos y especialistas en la toma de decisiones.\n",
        "\n",
        ">En conclusión, este proyecto refleja el potencial de la inteligencia artificial para transformar el diagnóstico temprano de enfermedades neurodegenerativas. Aunque es necesario continuar optimizando el modelo, los avances realizados ofrecen una base sólida para desarrollar herramientas de apoyo médico precisas y accesibles. Con las mejoras sugeridas y la colaboración continua con expertos en salud, este enfoque podría evolucionar hacia una solución viable y efectiva en la lucha contra el Parkinson.\n"
      ],
      "metadata": {
        "id": "UTdXDEijNx95"
      }
    },
    {
      "cell_type": "markdown",
      "source": [
        "## **Referencias**"
      ],
      "metadata": {
        "id": "QWaFcrOqOk34"
      }
    }
  ],
  "metadata": {
    "colab": {
      "provenance": []
    },
    "kernelspec": {
      "display_name": "clean",
      "language": "python",
      "name": "python3"
    },
    "language_info": {
      "codemirror_mode": {
        "name": "ipython",
        "version": 3
      },
      "file_extension": ".py",
      "mimetype": "text/x-python",
      "name": "python",
      "nbconvert_exporter": "python",
      "pygments_lexer": "ipython3",
      "version": "3.11.5"
    }
  },
  "nbformat": 4,
  "nbformat_minor": 0
}